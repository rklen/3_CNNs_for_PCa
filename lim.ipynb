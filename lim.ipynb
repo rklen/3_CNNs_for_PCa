{
 "cells": [
  {
   "cell_type": "code",
   "execution_count": 1,
   "metadata": {},
   "outputs": [],
   "source": [
    "import numpy as np\n",
    "import nibabel as nib\n",
    "import matplotlib.pyplot as plt\n",
    "import os\n",
    "import cv2\n",
    "import tensorflow as tf\n",
    "from tensorflow import keras\n",
    "from keras import layers\n",
    "import scipy\n",
    "from scipy.stats import wilcoxon"
   ]
  },
  {
   "cell_type": "code",
   "execution_count": 3,
   "metadata": {},
   "outputs": [
    {
     "name": "stdout",
     "output_type": "stream",
     "text": [
      "1.7.3\n"
     ]
    }
   ],
   "source": [
    "print(scipy.__version__)"
   ]
  },
  {
   "cell_type": "code",
   "execution_count": 2,
   "metadata": {},
   "outputs": [
    {
     "name": "stdout",
     "output_type": "stream",
     "text": [
      "1\n",
      "2\n",
      "3\n",
      "4\n",
      "5\n",
      "6\n",
      "7\n",
      "8\n",
      "9\n",
      "10\n",
      "11\n",
      "12\n",
      "13\n",
      "14\n",
      "15\n",
      "16\n",
      "17\n",
      "18\n",
      "19\n",
      "20\n",
      "21\n",
      "22\n",
      "23\n",
      "24\n",
      "25\n",
      "26\n",
      "27\n",
      "28\n",
      "29\n",
      "30\n",
      "31\n",
      "32\n",
      "33\n",
      "34\n",
      "35\n",
      "36\n",
      "37\n",
      "38\n",
      "39\n",
      "40\n",
      "41\n",
      "42\n",
      "43\n",
      "45\n",
      "46\n",
      "47\n",
      "48\n",
      "49\n",
      "50\n",
      "51\n",
      "52\n",
      "53\n",
      "54\n",
      "55\n",
      "56\n",
      "57\n",
      "58\n",
      "60\n",
      "61\n",
      "62\n",
      "63\n",
      "64\n",
      "65\n",
      "66\n",
      "68\n",
      "69\n",
      "70\n",
      "71\n",
      "72\n",
      "73\n",
      "74\n",
      "75\n",
      "76\n",
      "77\n",
      "78\n",
      "79\n",
      "80\n",
      "81\n",
      "0\n",
      "1\n",
      "2\n",
      "3\n",
      "4\n",
      "5\n",
      "6\n",
      "7\n",
      "8\n",
      "9\n",
      "10\n",
      "11\n",
      "12\n",
      "13\n",
      "14\n",
      "15\n",
      "16\n",
      "17\n",
      "18\n",
      "19\n",
      "20\n",
      "21\n",
      "22\n",
      "23\n",
      "24\n",
      "25\n",
      "26\n",
      "27\n",
      "28\n",
      "29\n",
      "30\n",
      "31\n",
      "32\n",
      "33\n",
      "34\n",
      "35\n",
      "36\n",
      "37\n",
      "38\n",
      "39\n",
      "40\n",
      "41\n",
      "42\n",
      "43\n",
      "44\n",
      "45\n",
      "46\n",
      "47\n",
      "48\n",
      "49\n",
      "50\n",
      "51\n",
      "52\n",
      "53\n",
      "54\n",
      "55\n",
      "56\n",
      "57\n",
      "58\n",
      "59\n",
      "60\n",
      "61\n",
      "62\n",
      "63\n",
      "64\n",
      "65\n",
      "66\n",
      "67\n",
      "68\n",
      "69\n",
      "70\n",
      "71\n",
      "72\n",
      "73\n",
      "74\n",
      "75\n",
      "76\n",
      "77\n",
      "0\n",
      "1\n",
      "2\n",
      "3\n",
      "4\n",
      "5\n",
      "6\n",
      "7\n",
      "8\n",
      "9\n",
      "10\n",
      "11\n",
      "12\n",
      "13\n",
      "14\n",
      "15\n",
      "16\n",
      "17\n",
      "18\n",
      "19\n",
      "20\n",
      "21\n",
      "22\n",
      "23\n",
      "24\n",
      "25\n",
      "26\n",
      "27\n",
      "28\n",
      "29\n",
      "30\n",
      "31\n",
      "32\n",
      "33\n",
      "34\n",
      "35\n",
      "36\n",
      "37\n",
      "38\n",
      "39\n",
      "40\n",
      "41\n",
      "42\n",
      "43\n",
      "44\n",
      "45\n",
      "46\n",
      "47\n",
      "48\n",
      "49\n",
      "50\n",
      "51\n",
      "52\n",
      "53\n",
      "54\n",
      "55\n",
      "56\n",
      "57\n",
      "58\n",
      "59\n",
      "60\n",
      "61\n",
      "62\n",
      "63\n",
      "64\n",
      "65\n",
      "66\n",
      "67\n",
      "68\n",
      "69\n",
      "70\n",
      "71\n",
      "72\n",
      "73\n",
      "74\n",
      "75\n",
      "76\n",
      "77\n"
     ]
    }
   ],
   "source": [
    "#save all masks for chosen slices\n",
    "\n",
    "indexVector = np.hstack((np.array(range(1,44)),np.array(range(45,59)),np.array(range(60,67)),np.array(range(68,82))))\n",
    "posLocs = []\n",
    "masks = []\n",
    "numSlices = []\n",
    "img_height = 64\n",
    "\n",
    "for i in indexVector:\n",
    "    img_data = nib.load('E:/nifti_masks/{}/nifti_mask/P1.img'.format(i)).get_fdata()\n",
    "    pos = []\n",
    "    for j in range(img_data.shape[2]):\n",
    "        if np.max(img_data[:,:,j])>0:\n",
    "            pos.append(j)\n",
    "    numSlices.append(img_data.shape[2])\n",
    "    if 'P2.img' in os.listdir('E:/nifti_masks/{}/nifti_mask/'.format(i)):\n",
    "        img_data = nib.load('E:/nifti_masks/{}/nifti_mask/P2.img'.format(i)).get_fdata()\n",
    "        for j in range(img_data.shape[2]):\n",
    "            if np.max(img_data[:,:,j])>0:\n",
    "                pos.append(j)\n",
    "    if 'P3.img' in os.listdir('E:/nifti_masks/{}/nifti_mask/'.format(i)):\n",
    "        img_data = nib.load('E:/nifti_masks/{}/nifti_mask/P3.img'.format(i)).get_fdata()\n",
    "        for j in range(img_data.shape[2]):\n",
    "            if np.max(img_data[:,:,j])>0:\n",
    "                pos.append(j)\n",
    "    posLocs.append(np.unique(pos))\n",
    "    print(i)\n",
    "\n",
    "for i in range(len(indexVector)):  \n",
    "    img_data = nib.load('E:/nifti_masks/{}/nifti_mask/P1.img'.format(indexVector[i])).get_fdata()\n",
    "    slices = []\n",
    "    for j in range(len(posLocs[i])):\n",
    "        slices.append(cv2.resize(img_data[200:328,236:364,posLocs[i][j]],(img_height,img_height)))\n",
    "    if 'P2.img' in os.listdir('E:/nifti_masks/{}/nifti_mask/'.format(indexVector[i])):\n",
    "        img_data = nib.load('E:/nifti_masks/{}/nifti_mask/P2.img'.format(indexVector[i])).get_fdata()\n",
    "        for j in range(len(posLocs[i])):\n",
    "            if np.max(img_data[:,:,posLocs[i][j]]>0):\n",
    "                slices[j]=np.maximum(slices[j],cv2.resize(img_data[200:328,236:364,posLocs[i][j]],(img_height,img_height)))\n",
    "    if 'P3.img' in os.listdir('E:/nifti_masks/{}/nifti_mask/'.format(indexVector[i])):\n",
    "        img_data = nib.load('E:/nifti_masks/{}/nifti_mask/P3.img'.format(indexVector[i])).get_fdata()\n",
    "        for j in range(len(posLocs[i])):\n",
    "            if np.max(img_data[:,:,posLocs[i][j]]>0):\n",
    "                slices[j]=np.maximum(slices[j],cv2.resize(img_data[200:328,236:364,posLocs[i][j]],(img_height,img_height)))\n",
    "    masks.append(slices)\n",
    "    print(i)\n",
    "\n",
    "for i in range(len(masks)):\n",
    "    for j in range(len(masks[i])):\n",
    "        for k in range(img_height):\n",
    "            for u in range(img_height):\n",
    "                if masks[i][j][k,u]>0:\n",
    "                    masks[i][j][k,u]=1\n",
    "    print(i)\n",
    "\n",
    "#note that [184:312,148:276] here is same as [200:328,236:364] since pics are sideways and have different axes!"
   ]
  },
  {
   "cell_type": "code",
   "execution_count": 3,
   "metadata": {},
   "outputs": [
    {
     "data": {
      "image/png": "[encoded data removed]",
      "text/plain": [
       "<Figure size 432x288 with 1 Axes>"
      ]
     },
     "metadata": {
      "needs_background": "light"
     },
     "output_type": "display_data"
    }
   ],
   "source": [
    "#plot the location of the cropping\n",
    "\n",
    "img_data = nib.load('E:/carimas_files/1/ct.nifti.img').get_fdata()\n",
    "ct=img_data[:,:,posLocs[0][0]]\n",
    "ct=(ct-np.min(ct))/(np.max(ct)-np.min(ct))\n",
    "for i in range(512):\n",
    "    for j in range(512):\n",
    "        ct[i,j]=ct[i,j]**0.5\n",
    "        if 199<=i<=201 and 236<=j<=364:\n",
    "            ct[i,j]=1\n",
    "        if 327<=i<=329 and 236<=j<=364:\n",
    "            ct[i,j]=1\n",
    "        if 200<=i<=328 and 235<=j<=237:\n",
    "            ct[i,j]=1\n",
    "        if 200<=i<=328 and 363<=j<=365:\n",
    "            ct[i,j]=1\n",
    "ct=cv2.rotate(ct,cv2.cv2.ROTATE_90_CLOCKWISE)           \n",
    "plt.imshow(ct,cmap='gray')\n",
    "fig=plt.gcf()\n",
    "plt.axis('off')\n",
    "plt.show()\n",
    "fig.savefig('fig1.png',bbox_inches='tight')"
   ]
  },
  {
   "cell_type": "code",
   "execution_count": 4,
   "metadata": {},
   "outputs": [
    {
     "data": {
      "text/plain": [
       "<matplotlib.image.AxesImage at 0x27e98f112e0>"
      ]
     },
     "execution_count": 4,
     "metadata": {},
     "output_type": "execute_result"
    },
    {
     "data": {
      "image/png": "[encoded data removed]",
      "text/plain": [
       "<Figure size 432x288 with 1 Axes>"
      ]
     },
     "metadata": {
      "needs_background": "light"
     },
     "output_type": "display_data"
    }
   ],
   "source": [
    "#plot one mask\n",
    "\n",
    "plt.imshow(masks[0][3],cmap='gray')"
   ]
  },
  {
   "cell_type": "code",
   "execution_count": 5,
   "metadata": {},
   "outputs": [
    {
     "name": "stdout",
     "output_type": "stream",
     "text": [
      "(880, 64, 64)\n"
     ]
    },
    {
     "data": {
      "text/plain": [
       "<matplotlib.image.AxesImage at 0x27e98f91f10>"
      ]
     },
     "execution_count": 5,
     "metadata": {},
     "output_type": "execute_result"
    },
    {
     "data": {
      "image/png": "[encoded data removed]",
      "text/plain": [
       "<Figure size 432x288 with 1 Axes>"
      ]
     },
     "metadata": {
      "needs_background": "light"
     },
     "output_type": "display_data"
    }
   ],
   "source": [
    "#plot the combination of all masks to check it is inside the cropping\n",
    "\n",
    "comb=[]\n",
    "\n",
    "for i in range(len(masks)):\n",
    "    for j in range(len(masks[i])):\n",
    "        comb.append(masks[i][j])\n",
    "\n",
    "comb=np.array(comb)\n",
    "print(comb.shape)\n",
    "plt.imshow(comb.max(axis=0),cmap='gray')"
   ]
  },
  {
   "cell_type": "code",
   "execution_count": 9,
   "metadata": {},
   "outputs": [],
   "source": [
    "#save the image slices corresponding to the masks\n",
    "\n",
    "posSlices = []\n",
    "\n",
    "for i in range(len(indexVector)):  \n",
    "    img_data = nib.load('E:/carimas_files/{}/pet.nifti.img'.format(indexVector[i])).get_fdata()\n",
    "    slices = []\n",
    "    for j in range(len(posLocs[i])):\n",
    "        slices.append(cv2.resize(img_data[200:328,236:364,posLocs[i][j]],(img_height,img_height)))\n",
    "    posSlices.append(slices)"
   ]
  },
  {
   "cell_type": "code",
   "execution_count": 10,
   "metadata": {},
   "outputs": [
    {
     "name": "stdout",
     "output_type": "stream",
     "text": [
      "[10, 11, 12, 13, 2, 4, 12, 5, 13, 11, 27, 9, 7, 17, 5, 4, 10, 22, 5, 6, 7, 12, 4, 9, 7, 18, 28, 13, 13, 8, 7, 13, 11, 6, 8, 8, 14, 14, 11, 9, 11, 21, 11, 10, 13, 19, 14, 8, 9, 17, 9, 18, 18, 9, 5, 10, 7, 8, 7, 4, 16, 17, 5, 14, 8, 9, 13, 8, 16, 12, 11, 31, 13, 14, 11, 12, 6, 11]\n"
     ]
    }
   ],
   "source": [
    "numPosSlices = []\n",
    "for i in range(len(indexVector)):\n",
    "    numPosSlices.append(len(posLocs[i]))\n",
    "print(numPosSlices)"
   ]
  },
  {
   "cell_type": "code",
   "execution_count": 11,
   "metadata": {},
   "outputs": [
    {
     "name": "stdout",
     "output_type": "stream",
     "text": [
      "1.0\n"
     ]
    }
   ],
   "source": [
    "u=[]\n",
    "for i in range(78):\n",
    "    for j in range(len(masks[i])):\n",
    "        u.append(np.sum(masks[i][j]))\n",
    "print(np.min(u))"
   ]
  },
  {
   "cell_type": "code",
   "execution_count": 12,
   "metadata": {},
   "outputs": [],
   "source": [
    "def sliceIntoBinaryMask(slice,lim):\n",
    "\n",
    "    img_height=slice.shape[0]\n",
    "\n",
    "    img=np.zeros((img_height,img_height))\n",
    "\n",
    "    for i in range(img_height):\n",
    "        for j in range(img_height):\n",
    "            if slice[i,j]>lim:\n",
    "                img[i,j]=1\n",
    "    \n",
    "    return img\n",
    "\n",
    "def computeDice(slice,mask,lim):\n",
    "\n",
    "    img_height=slice.shape[0]\n",
    "\n",
    "    TP=0\n",
    "    FP=0\n",
    "    FN=0\n",
    "\n",
    "    for i in range(img_height):\n",
    "        for j in range(img_height):\n",
    "            if mask[i,j]==1:\n",
    "                if slice[i,j]>lim:\n",
    "                    TP+=1\n",
    "                else:\n",
    "                    FN+=1\n",
    "            else:\n",
    "                if slice[i,j]>lim:\n",
    "                    FP+=1\n",
    "\n",
    "    dice=2*TP/(2*TP+FP+FN)\n",
    "\n",
    "    return dice\n",
    "\n",
    "def optimizeLim(slice,mask):\n",
    "\n",
    "    dices=[]\n",
    "\n",
    "    potLimits=0.01*np.array(range(0,100))\n",
    "\n",
    "    for lim in potLimits:\n",
    "        dices.append(computeDice(slice,mask,lim))\n",
    "\n",
    "    lim=potLimits[dices.index(max(dices))]\n",
    "\n",
    "    return lim\n",
    "\n",
    "def splitIntoSets(posSlices,masks,testSetPatients):\n",
    "\n",
    "    x_train = []\n",
    "    y_train = []\n",
    "    l_train = []\n",
    "    x_test = []\n",
    "    y_test = []\n",
    "    l_test = []\n",
    "\n",
    "    for i in range(78):\n",
    "        if i in testSetPatients: \n",
    "            for j in range(len(posSlices[i])):\n",
    "                slice=posSlices[i][j]\n",
    "                slice=(slice-np.min(slice))/(np.max(slice)-np.min(slice))\n",
    "                x_test.append(slice)\n",
    "                y_test.append(masks[i][j])  \n",
    "                l_test.append(optimizeLim(slice,masks[i][j]))\n",
    "        else:\n",
    "            for j in range(len(posSlices[i])):\n",
    "                slice=posSlices[i][j]\n",
    "                slice=(slice-np.min(slice))/(np.max(slice)-np.min(slice))\n",
    "                x_train.append(slice)\n",
    "                y_train.append(masks[i][j])\n",
    "                l_train.append(optimizeLim(slice,masks[i][j]))\n",
    "\n",
    "    x_train=np.array(x_train)\n",
    "    y_train=np.array(y_train)\n",
    "    l_train=np.array(l_train)\n",
    "    x_test=np.array(x_test)\n",
    "    y_test=np.array(y_test)\n",
    "    l_test=np.array(l_test)\n",
    "\n",
    "    return([x_train,y_train,l_train,x_test,y_test,l_test])\n",
    "\n",
    "def computeDicesFromPredictions(predMasks,y_test,limits):\n",
    "\n",
    "    dices=[]\n",
    "\n",
    "    for i in range(len(y_test)):\n",
    "        dices.append(computeDice(predMasks[i],y_test[i],limits[i]))\n",
    "        \n",
    "    dices=np.array(dices)\n",
    "\n",
    "    return dices"
   ]
  },
  {
   "cell_type": "code",
   "execution_count": 13,
   "metadata": {},
   "outputs": [],
   "source": [
    "#880:6=146.666\n",
    "ts1=[0,6,12,18,24,30,36,48,54,60,66,71,72] #149\n",
    "ts2=[1,7,11,19,25,31,37,43,49,55,61,64,67] #146\n",
    "ts3=[2,8,14,20,26,32,38,50,56,62,65,68,75] #145\n",
    "ts4=[3,9,15,21,28,33,39,45,51,58,63,69,74] #149\n",
    "ts5=[4,10,16,22,27,34,40,46,52,57,70,76,73] #146\n",
    "ts6=[5,13,17,23,29,35,41,42,44,47,53,59,77] #145\n",
    "#145-149 or 16.5-16.9%"
   ]
  },
  {
   "cell_type": "code",
   "execution_count": 14,
   "metadata": {},
   "outputs": [
    {
     "name": "stdout",
     "output_type": "stream",
     "text": [
      "149\n"
     ]
    }
   ],
   "source": [
    "k=0\n",
    "\n",
    "for i in range(78):\n",
    "    if i in ts1: \n",
    "        k+=len(posSlices[i])\n",
    "\n",
    "print(k)"
   ]
  },
  {
   "cell_type": "code",
   "execution_count": 38,
   "metadata": {},
   "outputs": [
    {
     "name": "stdout",
     "output_type": "stream",
     "text": [
      "1082.6153846153845\n"
     ]
    }
   ],
   "source": [
    "u=[]\n",
    "\n",
    "for i in ts6:\n",
    "    t=0\n",
    "    for j in range(len(posSlices[i])):\n",
    "        t+=np.sum(masks[i][j])\n",
    "    u.append(t)\n",
    "v=np.sum(u)/len(u)\n",
    "\n",
    "print(v)"
   ]
  },
  {
   "cell_type": "code",
   "execution_count": 15,
   "metadata": {},
   "outputs": [
    {
     "name": "stdout",
     "output_type": "stream",
     "text": [
      "(731, 64, 64)\n",
      "(731, 64, 64)\n",
      "(731,)\n",
      "(149, 64, 64)\n",
      "(149, 64, 64)\n",
      "(149,)\n"
     ]
    }
   ],
   "source": [
    "tsn=1\n",
    "\n",
    "if tsn==1:\n",
    "    testSetPatients=ts1\n",
    "if tsn==2:\n",
    "    testSetPatients=ts2\n",
    "if tsn==3:\n",
    "    testSetPatients=ts3\n",
    "if tsn==4:\n",
    "    testSetPatients=ts4\n",
    "if tsn==5:\n",
    "    testSetPatients=ts5\n",
    "if tsn==6:\n",
    "    testSetPatients=ts6\n",
    "\n",
    "x_train,y_train,l_train,x_test,y_test,l_test=splitIntoSets(posSlices,masks,testSetPatients)\n",
    "print(x_train.shape)\n",
    "print(y_train.shape)\n",
    "print(l_train.shape)\n",
    "print(x_test.shape)\n",
    "print(y_test.shape)\n",
    "print(l_test.shape)"
   ]
  },
  {
   "cell_type": "code",
   "execution_count": 14,
   "metadata": {},
   "outputs": [
    {
     "name": "stdout",
     "output_type": "stream",
     "text": [
      "0.5584815321477428\n"
     ]
    }
   ],
   "source": [
    "x=np.concatenate((x_train,x_test),axis=0)\n",
    "y=np.concatenate((y_train,y_test),axis=0)\n",
    "c_limits=np.array([0.41]*len(y))\n",
    "c_dices=computeDicesFromPredictions(x,y,c_limits)\n",
    "print(np.median(c_dices))\n",
    "#at highest when the constant is 0.41"
   ]
  },
  {
   "cell_type": "code",
   "execution_count": 15,
   "metadata": {},
   "outputs": [
    {
     "name": "stdout",
     "output_type": "stream",
     "text": [
      "0.45722408552562627\n"
     ]
    }
   ],
   "source": [
    "print(np.percentile(c_dices,75)-np.percentile(c_dices,25))"
   ]
  },
  {
   "cell_type": "code",
   "execution_count": 16,
   "metadata": {},
   "outputs": [
    {
     "data": {
      "image/png": "[encoded data removed]",
      "text/plain": [
       "<Figure size 432x288 with 1 Axes>"
      ]
     },
     "metadata": {
      "needs_background": "light"
     },
     "output_type": "display_data"
    },
    {
     "data": {
      "image/png": "[encoded data removed]",
      "text/plain": [
       "<Figure size 432x288 with 1 Axes>"
      ]
     },
     "metadata": {
      "needs_background": "light"
     },
     "output_type": "display_data"
    }
   ],
   "source": [
    "h_pos=np.zeros((101))\n",
    "h_neg=np.zeros((101))\n",
    "h_ind=0.01*np.array(range(101))\n",
    "\n",
    "for i in range(len(x)):\n",
    "    for u in range(img_height):\n",
    "        for v in range(img_height):\n",
    "            if y[i][u,v]==1:\n",
    "                h_pos[int(np.floor(100*x[i][u,v]))]+=1\n",
    "            else:\n",
    "                h_neg[int(np.floor(100*x[i][u,v]))]+=1\n",
    "\n",
    "plt.plot(h_ind,h_pos,color='blue')\n",
    "plt.show()\n",
    "plt.plot(h_ind,h_neg,color='blue')\n",
    "plt.show()"
   ]
  },
  {
   "cell_type": "code",
   "execution_count": 17,
   "metadata": {},
   "outputs": [
    {
     "name": "stdout",
     "output_type": "stream",
     "text": [
      "0.9686517295597484\n"
     ]
    }
   ],
   "source": [
    "opt_limits=np.concatenate((l_train,l_test),axis=0)\n",
    "opt_dices=computeDicesFromPredictions(x,y,opt_limits)\n",
    "print(np.median(opt_dices))"
   ]
  },
  {
   "cell_type": "code",
   "execution_count": 18,
   "metadata": {},
   "outputs": [
    {
     "name": "stdout",
     "output_type": "stream",
     "text": [
      "0.05883602121846632\n"
     ]
    }
   ],
   "source": [
    "print(np.percentile(opt_dices,75)-np.percentile(opt_dices,25))"
   ]
  },
  {
   "cell_type": "code",
   "execution_count": 159,
   "metadata": {},
   "outputs": [
    {
     "name": "stdout",
     "output_type": "stream",
     "text": [
      "Epoch 1/30\n",
      "17/17 [==============================] - 16s 857ms/step - loss: 0.1277 - val_loss: 0.0752\n",
      "Epoch 2/30\n",
      "17/17 [==============================] - 14s 828ms/step - loss: 0.0607 - val_loss: 0.0692\n",
      "Epoch 3/30\n",
      "17/17 [==============================] - 14s 815ms/step - loss: 0.0553 - val_loss: 0.0736\n",
      "Epoch 4/30\n",
      "17/17 [==============================] - 13s 791ms/step - loss: 0.0527 - val_loss: 0.0743\n",
      "Epoch 5/30\n",
      "17/17 [==============================] - 14s 827ms/step - loss: 0.0540 - val_loss: 0.0692\n",
      "Epoch 6/30\n",
      "17/17 [==============================] - 12s 727ms/step - loss: 0.0499 - val_loss: 0.0749\n",
      "Epoch 7/30\n",
      "17/17 [==============================] - 14s 825ms/step - loss: 0.0485 - val_loss: 0.0767\n",
      "Epoch 8/30\n",
      "17/17 [==============================] - 14s 832ms/step - loss: 0.0463 - val_loss: 0.0739\n",
      "Epoch 9/30\n",
      "17/17 [==============================] - 12s 728ms/step - loss: 0.0449 - val_loss: 0.0631\n",
      "Epoch 10/30\n",
      "17/17 [==============================] - 13s 745ms/step - loss: 0.0473 - val_loss: 0.0618\n",
      "Epoch 11/30\n",
      "17/17 [==============================] - 13s 744ms/step - loss: 0.0462 - val_loss: 0.0588\n",
      "Epoch 12/30\n",
      "17/17 [==============================] - 14s 828ms/step - loss: 0.0412 - val_loss: 0.0818\n",
      "Epoch 13/30\n",
      "17/17 [==============================] - 13s 749ms/step - loss: 0.0389 - val_loss: 0.0857\n",
      "Epoch 14/30\n",
      "17/17 [==============================] - 13s 738ms/step - loss: 0.0411 - val_loss: 0.0597\n",
      "Epoch 15/30\n",
      "17/17 [==============================] - 12s 712ms/step - loss: 0.0409 - val_loss: 0.0574\n",
      "Epoch 16/30\n",
      "17/17 [==============================] - 12s 725ms/step - loss: 0.0372 - val_loss: 0.0614\n",
      "Epoch 17/30\n",
      "17/17 [==============================] - 12s 725ms/step - loss: 0.0364 - val_loss: 0.0607\n",
      "Epoch 18/30\n",
      "17/17 [==============================] - 12s 721ms/step - loss: 0.0336 - val_loss: 0.0652\n",
      "Epoch 19/30\n",
      "17/17 [==============================] - 12s 717ms/step - loss: 0.0324 - val_loss: 0.0658\n",
      "Epoch 20/30\n",
      "17/17 [==============================] - 12s 719ms/step - loss: 0.0313 - val_loss: 0.0652\n",
      "Epoch 21/30\n",
      "17/17 [==============================] - 12s 737ms/step - loss: 0.0307 - val_loss: 0.0727\n",
      "Epoch 22/30\n",
      "17/17 [==============================] - 14s 846ms/step - loss: 0.0296 - val_loss: 0.0836\n",
      "Epoch 23/30\n",
      "17/17 [==============================] - 14s 808ms/step - loss: 0.0301 - val_loss: 0.0621\n",
      "Epoch 24/30\n",
      "17/17 [==============================] - 14s 812ms/step - loss: 0.0291 - val_loss: 0.0589\n",
      "Epoch 25/30\n",
      "17/17 [==============================] - 14s 804ms/step - loss: 0.0289 - val_loss: 0.0616\n",
      "Epoch 26/30\n",
      "17/17 [==============================] - 14s 806ms/step - loss: 0.0291 - val_loss: 0.0581\n",
      "Epoch 27/30\n",
      "17/17 [==============================] - 14s 809ms/step - loss: 0.0278 - val_loss: 0.0584\n",
      "Epoch 28/30\n",
      "17/17 [==============================] - 14s 804ms/step - loss: 0.0279 - val_loss: 0.0653\n",
      "Epoch 29/30\n",
      "17/17 [==============================] - 14s 802ms/step - loss: 0.0264 - val_loss: 0.0632\n",
      "Epoch 30/30\n",
      "17/17 [==============================] - 14s 804ms/step - loss: 0.0366 - val_loss: 0.0629\n"
     ]
    },
    {
     "data": {
      "text/plain": [
       "[<matplotlib.lines.Line2D at 0x27eddfaf340>]"
      ]
     },
     "execution_count": 159,
     "metadata": {},
     "output_type": "execute_result"
    },
    {
     "data": {
      "image/png": "[encoded data removed]",
      "text/plain": [
       "<Figure size 432x288 with 1 Axes>"
      ]
     },
     "metadata": {
      "needs_background": "light"
     },
     "output_type": "display_data"
    }
   ],
   "source": [
    "def unetForSegmentation():\n",
    "\n",
    "    #U-Net model\n",
    "    inputs = tf.keras.layers.Input(shape=(img_height,img_height,1))\n",
    "\n",
    "    #Contraction path\n",
    "    c1 = tf.keras.layers.Conv2D(16, (3, 3), activation='relu', kernel_initializer='he_normal', padding='same')(inputs)\n",
    "    c1 = tf.keras.layers.Dropout(0.1)(c1)\n",
    "    c1 = tf.keras.layers.Conv2D(16, (3, 3), activation='relu', kernel_initializer='he_normal', padding='same')(c1)\n",
    "    p1 = tf.keras.layers.MaxPooling2D((2, 2))(c1)\n",
    "\n",
    "    c2 = tf.keras.layers.Conv2D(32, (3, 3), activation='relu', kernel_initializer='he_normal', padding='same')(p1)\n",
    "    c2 = tf.keras.layers.Dropout(0.1)(c2)\n",
    "    c2 = tf.keras.layers.Conv2D(32, (3, 3), activation='relu', kernel_initializer='he_normal', padding='same')(c2)\n",
    "    p2 = tf.keras.layers.MaxPooling2D((2, 2))(c2)\n",
    "\n",
    "    c3 = tf.keras.layers.Conv2D(64, (3, 3), activation='relu', kernel_initializer='he_normal', padding='same')(p2)\n",
    "    c3 = tf.keras.layers.Dropout(0.2)(c3)\n",
    "    c3 = tf.keras.layers.Conv2D(64, (3, 3), activation='relu', kernel_initializer='he_normal', padding='same')(c3)\n",
    "\n",
    "    #Expansive path\n",
    "    u8 = tf.keras.layers.Conv2DTranspose(32, (2, 2), strides=(2, 2), padding='same')(c3)\n",
    "    u8 = tf.keras.layers.concatenate([u8, c2])\n",
    "    c8 = tf.keras.layers.Conv2D(32, (3, 3), activation='relu', kernel_initializer='he_normal', padding='same')(u8)\n",
    "    c8 = tf.keras.layers.Dropout(0.1)(c8)\n",
    "    c8 = tf.keras.layers.Conv2D(32, (3, 3), activation='relu', kernel_initializer='he_normal', padding='same')(c8)\n",
    "\n",
    "    u9 = tf.keras.layers.Conv2DTranspose(16, (2, 2), strides=(2, 2), padding='same')(c8)\n",
    "    u9 = tf.keras.layers.concatenate([u9, c1], axis=3)\n",
    "    c9 = tf.keras.layers.Conv2D(16, (3, 3), activation='relu', kernel_initializer='he_normal', padding='same')(u9)\n",
    "    c9 = tf.keras.layers.Dropout(0.1)(c9)\n",
    "    c9 = tf.keras.layers.Conv2D(16, (3, 3), activation='relu', kernel_initializer='he_normal', padding='same')(c9)\n",
    "\n",
    "    outputs = tf.keras.layers.Conv2D(1, (1,1), activation='linear')(c9) #sigmoid or linear\n",
    "\n",
    "    model = tf.keras.Model(inputs=[inputs], outputs=[outputs])\n",
    "    model.compile(optimizer='adam', loss='binary_crossentropy')\n",
    "\n",
    "    return model\n",
    "\n",
    "model=unetForSegmentation()\n",
    "numEpochs=30\n",
    "history=model.fit(x=x_train,y=y_train,epochs=numEpochs,validation_split=0.3,shuffle=True)\n",
    "trainSegPredictions=model.predict(x_train)\n",
    "segPredictions=model.predict(x_test)\n",
    "plt.plot(range(numEpochs),history.history['loss'],color='blue')"
   ]
  },
  {
   "cell_type": "code",
   "execution_count": 171,
   "metadata": {},
   "outputs": [
    {
     "name": "stdout",
     "output_type": "stream",
     "text": [
      "0.6666666666666666\n"
     ]
    }
   ],
   "source": [
    "s_limit=0.24\n",
    "t_limits=np.array([s_limit]*len(y_train))\n",
    "t_s_dices=computeDicesFromPredictions(trainSegPredictions,y_train,t_limits)\n",
    "print(np.median(t_s_dices))\n",
    "#find when highest!!!"
   ]
  },
  {
   "cell_type": "code",
   "execution_count": 172,
   "metadata": {},
   "outputs": [
    {
     "name": "stdout",
     "output_type": "stream",
     "text": [
      "0.59375\n"
     ]
    }
   ],
   "source": [
    "limits=np.array([s_limit]*len(y_test))\n",
    "s_dices=computeDicesFromPredictions(segPredictions,y_test,limits)\n",
    "print(np.median(s_dices))"
   ]
  },
  {
   "cell_type": "code",
   "execution_count": 31,
   "metadata": {},
   "outputs": [
    {
     "data": {
      "text/plain": [
       "<matplotlib.collections.PathCollection at 0x27e98fbba90>"
      ]
     },
     "execution_count": 31,
     "metadata": {},
     "output_type": "execute_result"
    },
    {
     "data": {
      "image/png": "[encoded data removed]",
      "text/plain": [
       "<Figure size 432x288 with 1 Axes>"
      ]
     },
     "metadata": {
      "needs_background": "light"
     },
     "output_type": "display_data"
    }
   ],
   "source": [
    "plt.scatter(np.arange(0,len(l_train)), l_train, color='blue')"
   ]
  },
  {
   "cell_type": "code",
   "execution_count": 173,
   "metadata": {},
   "outputs": [
    {
     "name": "stdout",
     "output_type": "stream",
     "text": [
      "Epoch 1/15\n",
      "17/17 [==============================] - 5s 233ms/step - loss: 0.0448 - mean_squared_error: 0.0448 - val_loss: 0.0451 - val_mean_squared_error: 0.0451\n",
      "Epoch 2/15\n",
      "17/17 [==============================] - 4s 236ms/step - loss: 0.0324 - mean_squared_error: 0.0324 - val_loss: 0.0360 - val_mean_squared_error: 0.0360\n",
      "Epoch 3/15\n",
      "17/17 [==============================] - 4s 222ms/step - loss: 0.0226 - mean_squared_error: 0.0226 - val_loss: 0.0178 - val_mean_squared_error: 0.0178\n",
      "Epoch 4/15\n",
      "17/17 [==============================] - 4s 208ms/step - loss: 0.0191 - mean_squared_error: 0.0191 - val_loss: 0.0174 - val_mean_squared_error: 0.0174\n",
      "Epoch 5/15\n",
      "17/17 [==============================] - 4s 208ms/step - loss: 0.0198 - mean_squared_error: 0.0198 - val_loss: 0.0185 - val_mean_squared_error: 0.0185\n",
      "Epoch 6/15\n",
      "17/17 [==============================] - 3s 207ms/step - loss: 0.0156 - mean_squared_error: 0.0156 - val_loss: 0.0208 - val_mean_squared_error: 0.0208\n",
      "Epoch 7/15\n",
      "17/17 [==============================] - 3s 206ms/step - loss: 0.0158 - mean_squared_error: 0.0158 - val_loss: 0.0171 - val_mean_squared_error: 0.0171\n",
      "Epoch 8/15\n",
      "17/17 [==============================] - 4s 209ms/step - loss: 0.0130 - mean_squared_error: 0.0130 - val_loss: 0.0188 - val_mean_squared_error: 0.0188\n",
      "Epoch 9/15\n",
      "17/17 [==============================] - 4s 207ms/step - loss: 0.0110 - mean_squared_error: 0.0110 - val_loss: 0.0166 - val_mean_squared_error: 0.0166\n",
      "Epoch 10/15\n",
      "17/17 [==============================] - 4s 216ms/step - loss: 0.0121 - mean_squared_error: 0.0121 - val_loss: 0.0191 - val_mean_squared_error: 0.0191\n",
      "Epoch 11/15\n",
      "17/17 [==============================] - 4s 221ms/step - loss: 0.0087 - mean_squared_error: 0.0087 - val_loss: 0.0245 - val_mean_squared_error: 0.0245\n",
      "Epoch 12/15\n",
      "17/17 [==============================] - 4s 214ms/step - loss: 0.0083 - mean_squared_error: 0.0083 - val_loss: 0.0173 - val_mean_squared_error: 0.0173\n",
      "Epoch 13/15\n",
      "17/17 [==============================] - 4s 206ms/step - loss: 0.0094 - mean_squared_error: 0.0094 - val_loss: 0.0170 - val_mean_squared_error: 0.0170\n",
      "Epoch 14/15\n",
      "17/17 [==============================] - 4s 211ms/step - loss: 0.0077 - mean_squared_error: 0.0077 - val_loss: 0.0184 - val_mean_squared_error: 0.0184\n",
      "Epoch 15/15\n",
      "17/17 [==============================] - 4s 210ms/step - loss: 0.0054 - mean_squared_error: 0.0054 - val_loss: 0.0363 - val_mean_squared_error: 0.0363\n"
     ]
    },
    {
     "data": {
      "text/plain": [
       "[<matplotlib.lines.Line2D at 0x27ea90962e0>]"
      ]
     },
     "execution_count": 173,
     "metadata": {},
     "output_type": "execute_result"
    },
    {
     "data": {
      "image/png": "[encoded data removed]",
      "text/plain": [
       "<Figure size 432x288 with 1 Axes>"
      ]
     },
     "metadata": {
      "needs_background": "light"
     },
     "output_type": "display_data"
    }
   ],
   "source": [
    "def Unet():\n",
    "    \n",
    "    model = keras.Sequential([layers.Conv2D(16, 3, activation='relu', input_shape=(img_height,img_height,1)),\n",
    "                        layers.Conv2D(16, 3, activation='relu'),\n",
    "                        layers.MaxPooling2D(pool_size=(2, 2), strides=(2, 2)),\n",
    "                        layers.Conv2D(32, 3, activation='relu'),\n",
    "                        layers.Conv2D(32, 3, activation='relu'),\n",
    "                        layers.MaxPooling2D(pool_size=(2, 2), strides=(2, 2)),\n",
    "                        layers.Conv2D(64, 3, activation='relu'),\n",
    "                        layers.Conv2D(64, 3, activation='relu'),\n",
    "                        layers.MaxPooling2D(strides=(2, 2)),\n",
    "                        layers.Flatten(),\n",
    "                        layers.Dense(64, activation='relu'),\n",
    "                        layers.Dense(32, activation='relu'),\n",
    "                        layers.Dense(1, activation='sigmoid')\n",
    "    ]\n",
    "    )\n",
    "\n",
    "    return model\n",
    "\n",
    "model=Unet()\n",
    "numEpochs=15\n",
    "model.compile(optimizer=keras.optimizers.Adam(1e-3),\n",
    "            loss=keras.losses.MeanSquaredError(),\n",
    "            metrics=[keras.metrics.MeanSquaredError()])\n",
    "history=model.fit(x=x_train,y=l_train,epochs=numEpochs,validation_split=0.3,shuffle=True)\n",
    "trainLimPredictions=model.predict(x_train)\n",
    "limPredictions=model.predict(x_test)\n",
    "plt.plot(range(numEpochs),history.history['loss'],color='blue')\n"
   ]
  },
  {
   "cell_type": "code",
   "execution_count": 33,
   "metadata": {},
   "outputs": [
    {
     "data": {
      "text/plain": [
       "<matplotlib.collections.PathCollection at 0x27eddcbb790>"
      ]
     },
     "execution_count": 33,
     "metadata": {},
     "output_type": "execute_result"
    },
    {
     "data": {
      "image/png": "[encoded data removed]",
      "text/plain": [
       "<Figure size 432x288 with 1 Axes>"
      ]
     },
     "metadata": {
      "needs_background": "light"
     },
     "output_type": "display_data"
    }
   ],
   "source": [
    "plt.scatter(l_train, trainLimPredictions, color='blue')"
   ]
  },
  {
   "cell_type": "code",
   "execution_count": 34,
   "metadata": {},
   "outputs": [
    {
     "data": {
      "image/png": "[encoded data removed]",
      "text/plain": [
       "<Figure size 432x288 with 1 Axes>"
      ]
     },
     "metadata": {
      "needs_background": "light"
     },
     "output_type": "display_data"
    }
   ],
   "source": [
    "plt.scatter(l_test, limPredictions, color='blue')\n",
    "plt.rc('xtick',labelsize=10)\n",
    "plt.rc('ytick',labelsize=10)\n",
    "fig=plt.gcf()\n",
    "#plt.savefig('fig2.png',bbox_inches='tight')\n",
    "plt.show()"
   ]
  },
  {
   "cell_type": "code",
   "execution_count": 20,
   "metadata": {},
   "outputs": [
    {
     "data": {
      "image/png": "[encoded data removed]",
      "text/plain": [
       "<Figure size 432x288 with 1 Axes>"
      ]
     },
     "metadata": {
      "needs_background": "light"
     },
     "output_type": "display_data"
    },
    {
     "name": "stdout",
     "output_type": "stream",
     "text": [
      "0.14915175687116608\n",
      "0.704034892185278\n",
      "[[1.         0.87204188]\n",
      " [0.87204188 1.        ]]\n",
      "[[1.         0.76045705]\n",
      " [0.76045705 1.        ]]\n"
     ]
    }
   ],
   "source": [
    "limPredictions=np.loadtxt('tsn/ts1/ts1_limPredictions.txt')\n",
    "b,a=np.polyfit(l_test,limPredictions,deg=1)\n",
    "plt.scatter(l_test,limPredictions, color='blue')\n",
    "plt.plot(l_test,b*l_test+a,color='black')\n",
    "plt.rc('xtick',labelsize=10)\n",
    "plt.rc('ytick',labelsize=10)\n",
    "fig=plt.gcf()\n",
    "plt.savefig('fig2.png',bbox_inches='tight')\n",
    "plt.show()\n",
    "print(a)\n",
    "print(b)\n",
    "print(np.corrcoef(l_test,limPredictions))\n",
    "print(np.corrcoef(l_test,limPredictions)**2)"
   ]
  },
  {
   "cell_type": "code",
   "execution_count": 174,
   "metadata": {},
   "outputs": [
    {
     "name": "stdout",
     "output_type": "stream",
     "text": [
      "0.7798165137614679\n"
     ]
    }
   ],
   "source": [
    "t_l_dices=computeDicesFromPredictions(x_train,y_train,trainLimPredictions)\n",
    "print(np.median(t_l_dices))"
   ]
  },
  {
   "cell_type": "code",
   "execution_count": 175,
   "metadata": {},
   "outputs": [
    {
     "name": "stdout",
     "output_type": "stream",
     "text": [
      "0.594059405940594\n"
     ]
    }
   ],
   "source": [
    "l_dices=computeDicesFromPredictions(x_test,y_test,limPredictions)\n",
    "print(np.median(l_dices))"
   ]
  },
  {
   "cell_type": "code",
   "execution_count": 176,
   "metadata": {},
   "outputs": [
    {
     "name": "stdout",
     "output_type": "stream",
     "text": [
      "0\n",
      "1\n",
      "2\n",
      "3\n",
      "4\n",
      "5\n",
      "6\n",
      "7\n",
      "8\n",
      "9\n",
      "10\n",
      "11\n",
      "12\n",
      "13\n",
      "14\n",
      "15\n",
      "16\n",
      "17\n",
      "18\n",
      "19\n",
      "20\n",
      "21\n",
      "22\n",
      "23\n",
      "24\n",
      "25\n",
      "26\n",
      "27\n",
      "28\n",
      "29\n",
      "30\n",
      "31\n",
      "32\n",
      "33\n",
      "34\n",
      "35\n",
      "36\n",
      "37\n",
      "38\n",
      "39\n",
      "40\n",
      "41\n",
      "42\n",
      "43\n",
      "44\n",
      "45\n",
      "46\n",
      "47\n",
      "48\n",
      "49\n",
      "50\n",
      "51\n",
      "52\n",
      "53\n",
      "54\n",
      "55\n",
      "56\n",
      "57\n",
      "58\n",
      "59\n",
      "60\n",
      "61\n",
      "62\n",
      "63\n",
      "64\n",
      "65\n",
      "66\n",
      "67\n",
      "68\n",
      "69\n",
      "70\n",
      "71\n",
      "72\n",
      "73\n",
      "74\n",
      "75\n",
      "76\n",
      "77\n",
      "78\n",
      "79\n",
      "80\n",
      "81\n",
      "82\n",
      "83\n",
      "84\n",
      "85\n",
      "86\n",
      "87\n",
      "88\n",
      "89\n",
      "90\n",
      "91\n",
      "92\n",
      "93\n",
      "94\n",
      "95\n",
      "96\n",
      "97\n",
      "98\n",
      "99\n",
      "100\n",
      "101\n",
      "102\n",
      "103\n",
      "104\n",
      "105\n",
      "106\n",
      "107\n",
      "108\n",
      "109\n",
      "110\n",
      "111\n",
      "112\n",
      "113\n",
      "114\n",
      "115\n",
      "116\n",
      "117\n",
      "118\n",
      "119\n",
      "120\n",
      "121\n",
      "122\n",
      "123\n",
      "124\n",
      "125\n",
      "126\n",
      "127\n",
      "128\n",
      "129\n",
      "130\n",
      "131\n",
      "132\n",
      "133\n",
      "134\n",
      "135\n",
      "136\n",
      "137\n",
      "138\n",
      "139\n",
      "140\n",
      "141\n",
      "142\n",
      "143\n",
      "144\n",
      "145\n",
      "146\n",
      "147\n",
      "148\n",
      "149\n",
      "150\n",
      "151\n",
      "152\n",
      "153\n",
      "154\n",
      "155\n",
      "156\n",
      "157\n",
      "158\n",
      "159\n",
      "160\n",
      "161\n",
      "162\n",
      "163\n",
      "164\n",
      "165\n",
      "166\n",
      "167\n",
      "168\n",
      "169\n",
      "170\n",
      "171\n",
      "172\n",
      "173\n",
      "174\n",
      "175\n",
      "176\n",
      "177\n",
      "178\n",
      "179\n",
      "180\n",
      "181\n",
      "182\n",
      "183\n",
      "184\n",
      "185\n",
      "186\n",
      "187\n",
      "188\n",
      "189\n",
      "190\n",
      "191\n",
      "192\n",
      "193\n",
      "194\n",
      "195\n",
      "196\n",
      "197\n",
      "198\n",
      "199\n",
      "200\n",
      "201\n",
      "202\n",
      "203\n",
      "204\n",
      "205\n",
      "206\n",
      "207\n",
      "208\n",
      "209\n",
      "210\n",
      "211\n",
      "212\n",
      "213\n",
      "214\n",
      "215\n",
      "216\n",
      "217\n",
      "218\n",
      "219\n",
      "220\n",
      "221\n",
      "222\n",
      "223\n",
      "224\n",
      "225\n",
      "226\n",
      "227\n",
      "228\n",
      "229\n",
      "230\n",
      "231\n",
      "232\n",
      "233\n",
      "234\n",
      "235\n",
      "236\n",
      "237\n",
      "238\n",
      "239\n",
      "240\n",
      "241\n",
      "242\n",
      "243\n",
      "244\n",
      "245\n",
      "246\n",
      "247\n",
      "248\n",
      "249\n",
      "250\n",
      "251\n",
      "252\n",
      "253\n",
      "254\n",
      "255\n",
      "256\n",
      "257\n",
      "258\n",
      "259\n",
      "260\n",
      "261\n",
      "262\n",
      "263\n",
      "264\n",
      "265\n",
      "266\n",
      "267\n",
      "268\n",
      "269\n",
      "270\n",
      "271\n",
      "272\n",
      "273\n",
      "274\n",
      "275\n",
      "276\n",
      "277\n",
      "278\n",
      "279\n",
      "280\n",
      "281\n",
      "282\n",
      "283\n",
      "284\n",
      "285\n",
      "286\n",
      "287\n",
      "288\n",
      "289\n",
      "290\n",
      "291\n",
      "292\n",
      "293\n",
      "294\n",
      "295\n",
      "296\n",
      "297\n",
      "298\n",
      "299\n",
      "300\n",
      "301\n",
      "302\n",
      "303\n",
      "304\n",
      "305\n",
      "306\n",
      "307\n",
      "308\n",
      "309\n",
      "310\n",
      "311\n",
      "312\n",
      "313\n",
      "314\n",
      "315\n",
      "316\n",
      "317\n",
      "318\n",
      "319\n",
      "320\n",
      "321\n",
      "322\n",
      "323\n",
      "324\n",
      "325\n",
      "326\n",
      "327\n",
      "328\n",
      "329\n",
      "330\n",
      "331\n",
      "332\n",
      "333\n",
      "334\n",
      "335\n",
      "336\n",
      "337\n",
      "338\n",
      "339\n",
      "340\n",
      "341\n",
      "342\n",
      "343\n",
      "344\n",
      "345\n",
      "346\n",
      "347\n",
      "348\n",
      "349\n",
      "350\n",
      "351\n",
      "352\n",
      "353\n",
      "354\n",
      "355\n",
      "356\n",
      "357\n",
      "358\n",
      "359\n",
      "360\n",
      "361\n",
      "362\n",
      "363\n",
      "364\n",
      "365\n",
      "366\n",
      "367\n",
      "368\n",
      "369\n",
      "370\n",
      "371\n",
      "372\n",
      "373\n",
      "374\n",
      "375\n",
      "376\n",
      "377\n",
      "378\n",
      "379\n",
      "380\n",
      "381\n",
      "382\n",
      "383\n",
      "384\n",
      "385\n",
      "386\n",
      "387\n",
      "388\n",
      "389\n",
      "390\n",
      "391\n",
      "392\n",
      "393\n",
      "394\n",
      "395\n",
      "396\n",
      "397\n",
      "398\n",
      "399\n",
      "400\n",
      "401\n",
      "402\n",
      "403\n",
      "404\n",
      "405\n",
      "406\n",
      "407\n",
      "408\n",
      "409\n",
      "410\n",
      "411\n",
      "412\n",
      "413\n",
      "414\n",
      "415\n",
      "416\n",
      "417\n",
      "418\n",
      "419\n",
      "420\n",
      "421\n",
      "422\n",
      "423\n",
      "424\n",
      "425\n",
      "426\n",
      "427\n",
      "428\n",
      "429\n",
      "430\n",
      "431\n",
      "432\n",
      "433\n",
      "434\n",
      "435\n",
      "436\n",
      "437\n",
      "438\n",
      "439\n",
      "440\n",
      "441\n",
      "442\n",
      "443\n",
      "444\n",
      "445\n",
      "446\n",
      "447\n",
      "448\n",
      "449\n",
      "450\n",
      "451\n",
      "452\n",
      "453\n",
      "454\n",
      "455\n",
      "456\n",
      "457\n",
      "458\n",
      "459\n",
      "460\n",
      "461\n",
      "462\n",
      "463\n",
      "464\n",
      "465\n",
      "466\n",
      "467\n",
      "468\n",
      "469\n",
      "470\n",
      "471\n",
      "472\n",
      "473\n",
      "474\n",
      "475\n",
      "476\n",
      "477\n",
      "478\n",
      "479\n",
      "480\n",
      "481\n",
      "482\n",
      "483\n",
      "484\n",
      "485\n",
      "486\n",
      "487\n",
      "488\n",
      "489\n",
      "490\n",
      "491\n",
      "492\n",
      "493\n",
      "494\n",
      "495\n",
      "496\n",
      "497\n",
      "498\n",
      "499\n",
      "500\n",
      "501\n",
      "502\n",
      "503\n",
      "504\n",
      "505\n",
      "506\n",
      "507\n",
      "508\n",
      "509\n",
      "510\n",
      "511\n",
      "512\n",
      "513\n",
      "514\n",
      "515\n",
      "516\n",
      "517\n",
      "518\n",
      "519\n",
      "520\n",
      "521\n",
      "522\n",
      "523\n",
      "524\n",
      "525\n",
      "526\n",
      "527\n",
      "528\n",
      "529\n",
      "530\n",
      "531\n",
      "532\n",
      "533\n",
      "534\n",
      "535\n",
      "536\n",
      "537\n",
      "538\n",
      "539\n",
      "540\n",
      "541\n",
      "542\n",
      "543\n",
      "544\n",
      "545\n",
      "546\n",
      "547\n",
      "548\n",
      "549\n",
      "550\n",
      "551\n",
      "552\n",
      "553\n",
      "554\n",
      "555\n",
      "556\n",
      "557\n",
      "558\n",
      "559\n",
      "560\n",
      "561\n",
      "562\n",
      "563\n",
      "564\n",
      "565\n",
      "566\n",
      "567\n",
      "568\n",
      "569\n",
      "570\n",
      "571\n",
      "572\n",
      "573\n",
      "574\n",
      "575\n",
      "576\n",
      "577\n",
      "578\n",
      "579\n",
      "580\n",
      "581\n",
      "582\n",
      "583\n",
      "584\n",
      "585\n",
      "586\n",
      "587\n",
      "588\n",
      "589\n",
      "590\n",
      "591\n",
      "592\n",
      "593\n",
      "594\n",
      "595\n",
      "596\n",
      "597\n",
      "598\n",
      "599\n",
      "600\n",
      "601\n",
      "602\n",
      "603\n",
      "604\n",
      "605\n",
      "606\n",
      "607\n",
      "608\n",
      "609\n",
      "610\n",
      "611\n",
      "612\n",
      "613\n",
      "614\n",
      "615\n",
      "616\n",
      "617\n",
      "618\n",
      "619\n",
      "620\n",
      "621\n",
      "622\n",
      "623\n",
      "624\n",
      "625\n",
      "626\n",
      "627\n",
      "628\n",
      "629\n",
      "630\n",
      "631\n",
      "632\n",
      "633\n",
      "634\n",
      "635\n",
      "636\n",
      "637\n",
      "638\n",
      "639\n",
      "640\n",
      "641\n",
      "642\n",
      "643\n",
      "644\n",
      "645\n",
      "646\n",
      "647\n",
      "648\n",
      "649\n",
      "650\n",
      "651\n",
      "652\n",
      "653\n",
      "654\n",
      "655\n",
      "656\n",
      "657\n",
      "658\n",
      "659\n",
      "660\n",
      "661\n",
      "662\n",
      "663\n",
      "664\n",
      "665\n",
      "666\n",
      "667\n",
      "668\n",
      "669\n",
      "670\n",
      "671\n",
      "672\n",
      "673\n",
      "674\n",
      "675\n",
      "676\n",
      "677\n",
      "678\n",
      "679\n",
      "680\n",
      "681\n",
      "682\n",
      "683\n",
      "684\n",
      "685\n",
      "686\n",
      "687\n",
      "688\n",
      "689\n",
      "690\n",
      "691\n",
      "692\n",
      "693\n",
      "694\n",
      "695\n",
      "696\n",
      "697\n",
      "698\n",
      "699\n",
      "700\n",
      "701\n",
      "702\n",
      "703\n",
      "704\n",
      "705\n",
      "706\n",
      "707\n",
      "708\n",
      "709\n",
      "710\n",
      "711\n",
      "712\n",
      "713\n",
      "714\n",
      "715\n",
      "716\n",
      "717\n",
      "718\n",
      "719\n",
      "720\n",
      "721\n",
      "722\n",
      "723\n",
      "724\n",
      "725\n",
      "726\n",
      "727\n",
      "728\n",
      "729\n",
      "730\n",
      "731\n",
      "732\n",
      "733\n",
      "734\n",
      "0.865979381443299\n"
     ]
    }
   ],
   "source": [
    "l_train_1=[]\n",
    "#l_test_1=[]\n",
    "\n",
    "for i in range(len(y_train)):\n",
    "    l_train_1.append(optimizeLim(trainSegPredictions[i],y_train[i]))\n",
    "    print(i)\n",
    "\n",
    "#for i in range(len(y_test)):\n",
    "#    l_test_1.append(optimizeLim(segPredictions[i],y_test[i]))\n",
    "\n",
    "l_train_1=np.array(l_train_1)\n",
    "#l_test_1=np.array(l_test_1)\n",
    "\n",
    "print(np.median(computeDicesFromPredictions(trainSegPredictions,y_train,l_train_1)))\n",
    "#print(np.median(computeDicesFromPredictions(segPredictions,y_test,l_test_1)))"
   ]
  },
  {
   "cell_type": "code",
   "execution_count": 177,
   "metadata": {},
   "outputs": [
    {
     "name": "stdout",
     "output_type": "stream",
     "text": [
      "Epoch 1/15\n",
      "17/17 [==============================] - 5s 224ms/step - loss: 0.0353 - mean_squared_error: 0.0353 - val_loss: 0.0220 - val_mean_squared_error: 0.0220\n",
      "Epoch 2/15\n",
      "17/17 [==============================] - 4s 210ms/step - loss: 0.0153 - mean_squared_error: 0.0153 - val_loss: 0.0144 - val_mean_squared_error: 0.0144\n",
      "Epoch 3/15\n",
      "17/17 [==============================] - 4s 210ms/step - loss: 0.0135 - mean_squared_error: 0.0135 - val_loss: 0.0169 - val_mean_squared_error: 0.0169\n",
      "Epoch 4/15\n",
      "17/17 [==============================] - 4s 210ms/step - loss: 0.0128 - mean_squared_error: 0.0128 - val_loss: 0.0153 - val_mean_squared_error: 0.0153\n",
      "Epoch 5/15\n",
      "17/17 [==============================] - 4s 210ms/step - loss: 0.0116 - mean_squared_error: 0.0116 - val_loss: 0.0134 - val_mean_squared_error: 0.0134\n",
      "Epoch 6/15\n",
      "17/17 [==============================] - 4s 220ms/step - loss: 0.0117 - mean_squared_error: 0.0117 - val_loss: 0.0244 - val_mean_squared_error: 0.0244\n",
      "Epoch 7/15\n",
      "17/17 [==============================] - 3s 206ms/step - loss: 0.0095 - mean_squared_error: 0.0095 - val_loss: 0.0174 - val_mean_squared_error: 0.0174\n",
      "Epoch 8/15\n",
      "17/17 [==============================] - 4s 207ms/step - loss: 0.0087 - mean_squared_error: 0.0087 - val_loss: 0.0283 - val_mean_squared_error: 0.0283\n",
      "Epoch 9/15\n",
      "17/17 [==============================] - 4s 207ms/step - loss: 0.0089 - mean_squared_error: 0.0089 - val_loss: 0.0163 - val_mean_squared_error: 0.0163\n",
      "Epoch 10/15\n",
      "17/17 [==============================] - 4s 209ms/step - loss: 0.0068 - mean_squared_error: 0.0068 - val_loss: 0.0175 - val_mean_squared_error: 0.0175\n",
      "Epoch 11/15\n",
      "17/17 [==============================] - 4s 219ms/step - loss: 0.0068 - mean_squared_error: 0.0068 - val_loss: 0.0199 - val_mean_squared_error: 0.0199\n",
      "Epoch 12/15\n",
      "17/17 [==============================] - 4s 240ms/step - loss: 0.0070 - mean_squared_error: 0.0070 - val_loss: 0.0188 - val_mean_squared_error: 0.0188\n",
      "Epoch 13/15\n",
      "17/17 [==============================] - 3s 202ms/step - loss: 0.0057 - mean_squared_error: 0.0057 - val_loss: 0.0185 - val_mean_squared_error: 0.0185\n",
      "Epoch 14/15\n",
      "17/17 [==============================] - 4s 219ms/step - loss: 0.0045 - mean_squared_error: 0.0045 - val_loss: 0.0170 - val_mean_squared_error: 0.0170\n",
      "Epoch 15/15\n",
      "17/17 [==============================] - 4s 208ms/step - loss: 0.0046 - mean_squared_error: 0.0046 - val_loss: 0.0179 - val_mean_squared_error: 0.0179\n"
     ]
    },
    {
     "data": {
      "text/plain": [
       "[<matplotlib.lines.Line2D at 0x27ee11ffd90>]"
      ]
     },
     "execution_count": 177,
     "metadata": {},
     "output_type": "execute_result"
    },
    {
     "data": {
      "image/png": "[encoded data removed]",
      "text/plain": [
       "<Figure size 432x288 with 1 Axes>"
      ]
     },
     "metadata": {
      "needs_background": "light"
     },
     "output_type": "display_data"
    }
   ],
   "source": [
    "model=Unet()\n",
    "model.compile(optimizer=keras.optimizers.Adam(1e-3),\n",
    "            loss=keras.losses.MeanSquaredError(),\n",
    "            metrics=[keras.metrics.MeanSquaredError()])\n",
    "history=model.fit(x=trainSegPredictions,y=l_train_1,epochs=numEpochs,validation_split=0.3,shuffle=True)\n",
    "trainLimSegPredictions=model.predict(trainSegPredictions)\n",
    "limSegPredictions=model.predict(segPredictions)\n",
    "plt.plot(range(numEpochs),history.history['loss'],color='blue')"
   ]
  },
  {
   "cell_type": "code",
   "execution_count": 178,
   "metadata": {},
   "outputs": [
    {
     "name": "stdout",
     "output_type": "stream",
     "text": [
      "0.782608695652174\n"
     ]
    }
   ],
   "source": [
    "t_k_dices=computeDicesFromPredictions(trainSegPredictions,y_train,trainLimSegPredictions)\n",
    "print(np.median(t_k_dices))"
   ]
  },
  {
   "cell_type": "code",
   "execution_count": 179,
   "metadata": {},
   "outputs": [
    {
     "name": "stdout",
     "output_type": "stream",
     "text": [
      "0.6529209621993127\n"
     ]
    }
   ],
   "source": [
    "k_dices=computeDicesFromPredictions(segPredictions,y_test,limSegPredictions)\n",
    "print(np.median(k_dices))"
   ]
  },
  {
   "cell_type": "code",
   "execution_count": 180,
   "metadata": {},
   "outputs": [
    {
     "name": "stdout",
     "output_type": "stream",
     "text": [
      "0.6666666666666666\n",
      "0.7798165137614679\n",
      "0.782608695652174\n"
     ]
    }
   ],
   "source": [
    "print(np.median(t_s_dices))\n",
    "print(np.median(t_l_dices))\n",
    "print(np.median(t_k_dices))"
   ]
  },
  {
   "cell_type": "code",
   "execution_count": 181,
   "metadata": {},
   "outputs": [
    {
     "name": "stdout",
     "output_type": "stream",
     "text": [
      "0.5378445588343498\n",
      "0.577648569388146\n",
      "0.5718515505085219\n"
     ]
    }
   ],
   "source": [
    "print(np.mean(s_dices))\n",
    "print(np.mean(l_dices))\n",
    "print(np.mean(k_dices))"
   ]
  },
  {
   "cell_type": "code",
   "execution_count": 182,
   "metadata": {},
   "outputs": [
    {
     "name": "stdout",
     "output_type": "stream",
     "text": [
      "0.59375\n",
      "0.594059405940594\n",
      "0.6529209621993127\n"
     ]
    }
   ],
   "source": [
    "print(np.median(s_dices))\n",
    "print(np.median(l_dices))\n",
    "print(np.median(k_dices))"
   ]
  },
  {
   "cell_type": "code",
   "execution_count": 183,
   "metadata": {},
   "outputs": [
    {
     "name": "stdout",
     "output_type": "stream",
     "text": [
      "0.4331749305119699\n",
      "0.3938953488372093\n",
      "0.4470588235294118\n"
     ]
    }
   ],
   "source": [
    "print(np.percentile(s_dices,75)-np.percentile(s_dices,25))\n",
    "print(np.percentile(l_dices,75)-np.percentile(l_dices,25))\n",
    "print(np.percentile(k_dices,75)-np.percentile(k_dices,25))"
   ]
  },
  {
   "cell_type": "code",
   "execution_count": 185,
   "metadata": {},
   "outputs": [
    {
     "name": "stdout",
     "output_type": "stream",
     "text": [
      "WilcoxonResult(statistic=4275.0, pvalue=0.07853361653220099)\n",
      "WilcoxonResult(statistic=3703.0, pvalue=0.007348434873824316)\n",
      "WilcoxonResult(statistic=4851.0, pvalue=0.9765178699124175)\n"
     ]
    }
   ],
   "source": [
    "print(wilcoxon(x=s_dices,y=l_dices))\n",
    "print(wilcoxon(x=s_dices,y=k_dices))\n",
    "print(wilcoxon(x=l_dices,y=k_dices))"
   ]
  },
  {
   "cell_type": "code",
   "execution_count": 46,
   "metadata": {},
   "outputs": [
    {
     "data": {
      "image/png": "[encoded data removed]",
      "text/plain": [
       "<Figure size 432x288 with 1 Axes>"
      ]
     },
     "metadata": {
      "needs_background": "light"
     },
     "output_type": "display_data"
    },
    {
     "data": {
      "image/png": "[encoded data removed]",
      "text/plain": [
       "<Figure size 432x288 with 1 Axes>"
      ]
     },
     "metadata": {
      "needs_background": "light"
     },
     "output_type": "display_data"
    },
    {
     "data": {
      "image/png": "[encoded data removed]",
      "text/plain": [
       "<Figure size 432x288 with 1 Axes>"
      ]
     },
     "metadata": {
      "needs_background": "light"
     },
     "output_type": "display_data"
    },
    {
     "data": {
      "image/png": "[encoded data removed]",
      "text/plain": [
       "<Figure size 432x288 with 1 Axes>"
      ]
     },
     "metadata": {
      "needs_background": "light"
     },
     "output_type": "display_data"
    },
    {
     "data": {
      "image/png": "[encoded data removed]",
      "text/plain": [
       "<Figure size 432x288 with 1 Axes>"
      ]
     },
     "metadata": {
      "needs_background": "light"
     },
     "output_type": "display_data"
    },
    {
     "data": {
      "image/png": "[encoded data removed]",
      "text/plain": [
       "<Figure size 432x288 with 1 Axes>"
      ]
     },
     "metadata": {
      "needs_background": "light"
     },
     "output_type": "display_data"
    },
    {
     "name": "stdout",
     "output_type": "stream",
     "text": [
      "0.3\n",
      "[0.43985656]\n",
      "[0.3131984]\n",
      "0.8461538461538461\n",
      "0.7894736842105263\n",
      "0.8461538461538461\n",
      "0.5\n",
      "1.0\n"
     ]
    }
   ],
   "source": [
    "i=0\n",
    "\n",
    "plt.imshow(cv2.rotate(x_test[i],cv2.cv2.ROTATE_90_CLOCKWISE),cmap='gray')\n",
    "fig=plt.gcf()\n",
    "plt.axis('off')\n",
    "plt.savefig('fig3a.png',bbox_inches='tight')\n",
    "plt.show()\n",
    "\n",
    "plt.imshow(cv2.rotate(y_test[i],cv2.cv2.ROTATE_90_CLOCKWISE),cmap='gray')\n",
    "fig=plt.gcf()\n",
    "plt.axis('off')\n",
    "plt.savefig('fig3b.png',bbox_inches='tight')\n",
    "plt.show()\n",
    "\n",
    "plt.imshow(cv2.rotate(segPredictions[i],cv2.cv2.ROTATE_90_CLOCKWISE),cmap='gray')\n",
    "fig=plt.gcf()\n",
    "plt.axis('off')\n",
    "plt.savefig('fig3c.png',bbox_inches='tight')\n",
    "plt.show()\n",
    "\n",
    "plt.imshow(cv2.rotate(sliceIntoBinaryMask(segPredictions[i],0.31),cv2.cv2.ROTATE_90_CLOCKWISE),cmap='gray')\n",
    "fig=plt.gcf()\n",
    "plt.axis('off')\n",
    "plt.savefig('fig3d.png',bbox_inches='tight')\n",
    "plt.show()\n",
    "\n",
    "plt.imshow(cv2.rotate(sliceIntoBinaryMask(x_test[i],limPredictions[i]),cv2.cv2.ROTATE_90_CLOCKWISE),cmap='gray')\n",
    "fig=plt.gcf()\n",
    "plt.axis('off')\n",
    "plt.savefig('fig3e.png',bbox_inches='tight')\n",
    "plt.show()\n",
    "\n",
    "plt.imshow(cv2.rotate(sliceIntoBinaryMask(segPredictions[i],limSegPredictions[i]),cv2.cv2.ROTATE_90_CLOCKWISE),cmap='gray')\n",
    "fig=plt.gcf()\n",
    "plt.axis('off')\n",
    "plt.savefig('fig3f.png',bbox_inches='tight')\n",
    "plt.show()\n",
    "\n",
    "print(s_limit)\n",
    "print(limPredictions[i])\n",
    "print(limSegPredictions[i])\n",
    "\n",
    "print(s_dices[i])\n",
    "print(l_dices[i])\n",
    "print(k_dices[i])\n",
    "\n",
    "print(l_test[i])\n",
    "print(opt_dices[i])"
   ]
  },
  {
   "cell_type": "code",
   "execution_count": 186,
   "metadata": {},
   "outputs": [],
   "source": [
    "np.savetxt('ts{}_s_dices.txt'.format(tsn), s_dices)\n",
    "np.savetxt('ts{}_l_dices.txt'.format(tsn), l_dices)\n",
    "np.savetxt('ts{}_k_dices.txt'.format(tsn), k_dices)\n",
    "np.savetxt('ts{}_trainLimPredictions.txt'.format(tsn), trainLimPredictions)\n",
    "np.savetxt('ts{}_limPredictions.txt'.format(tsn), limPredictions)\n",
    "np.savetxt('ts{}_trainLimSegPredictions.txt'.format(tsn), trainLimSegPredictions)\n",
    "np.savetxt('ts{}_limSegPredictions.txt'.format(tsn), limSegPredictions)\n",
    "\n",
    "for i in range(len(trainSegPredictions)):\n",
    "    np.savetxt('ts{}_{}_trainSegPredictions.txt'.format(tsn,i), trainSegPredictions[i][:,:,0])\n",
    "\n",
    "for i in range(len(segPredictions)):\n",
    "    np.savetxt('ts{}_{}_segPredictions.txt'.format(tsn,i), segPredictions[i][:,:,0])"
   ]
  },
  {
   "cell_type": "code",
   "execution_count": 187,
   "metadata": {},
   "outputs": [],
   "source": [
    "d1=np.loadtxt('C:/Users/Oona/Documents/Tpc/prc/lim/tsn/ts1/ts1_s_dices.txt')\n",
    "d2=np.loadtxt('C:/Users/Oona/Documents/Tpc/prc/lim/tsn/ts2/ts2_s_dices.txt')\n",
    "d3=np.loadtxt('C:/Users/Oona/Documents/Tpc/prc/lim/tsn/ts3/ts3_s_dices.txt')\n",
    "d4=np.loadtxt('C:/Users/Oona/Documents/Tpc/prc/lim/tsn/ts4/ts4_s_dices.txt')\n",
    "d5=np.loadtxt('C:/Users/Oona/Documents/Tpc/prc/lim/tsn/ts5/ts5_s_dices.txt')\n",
    "d6=np.loadtxt('C:/Users/Oona/Documents/Tpc/prc/lim/tsn/ts6/ts6_s_dices.txt')\n",
    "s_dices=np.concatenate((d1,d2,d3,d4,d5,d6))"
   ]
  },
  {
   "cell_type": "code",
   "execution_count": 188,
   "metadata": {},
   "outputs": [],
   "source": [
    "d1=np.loadtxt('C:/Users/Oona/Documents/Tpc/prc/lim/tsn/ts1/ts1_l_dices.txt')\n",
    "d2=np.loadtxt('C:/Users/Oona/Documents/Tpc/prc/lim/tsn/ts2/ts2_l_dices.txt')\n",
    "d3=np.loadtxt('C:/Users/Oona/Documents/Tpc/prc/lim/tsn/ts3/ts3_l_dices.txt')\n",
    "d4=np.loadtxt('C:/Users/Oona/Documents/Tpc/prc/lim/tsn/ts4/ts4_l_dices.txt')\n",
    "d5=np.loadtxt('C:/Users/Oona/Documents/Tpc/prc/lim/tsn/ts5/ts5_l_dices.txt')\n",
    "d6=np.loadtxt('C:/Users/Oona/Documents/Tpc/prc/lim/tsn/ts6/ts6_l_dices.txt')\n",
    "l_dices=np.concatenate((d1,d2,d3,d4,d5,d6))"
   ]
  },
  {
   "cell_type": "code",
   "execution_count": 189,
   "metadata": {},
   "outputs": [],
   "source": [
    "d1=np.loadtxt('C:/Users/Oona/Documents/Tpc/prc/lim/tsn/ts1/ts1_k_dices.txt')\n",
    "d2=np.loadtxt('C:/Users/Oona/Documents/Tpc/prc/lim/tsn/ts2/ts2_k_dices.txt')\n",
    "d3=np.loadtxt('C:/Users/Oona/Documents/Tpc/prc/lim/tsn/ts3/ts3_k_dices.txt')\n",
    "d4=np.loadtxt('C:/Users/Oona/Documents/Tpc/prc/lim/tsn/ts4/ts4_k_dices.txt')\n",
    "d5=np.loadtxt('C:/Users/Oona/Documents/Tpc/prc/lim/tsn/ts5/ts5_k_dices.txt')\n",
    "d6=np.loadtxt('C:/Users/Oona/Documents/Tpc/prc/lim/tsn/ts6/ts6_k_dices.txt')\n",
    "k_dices=np.concatenate((d1,d2,d3,d4,d5,d6))"
   ]
  },
  {
   "cell_type": "code",
   "execution_count": 190,
   "metadata": {},
   "outputs": [
    {
     "name": "stdout",
     "output_type": "stream",
     "text": [
      "0.7086848635235732\n",
      "0.717948717948718\n",
      "0.6885245901639344\n"
     ]
    }
   ],
   "source": [
    "print(np.median(s_dices))\n",
    "print(np.median(l_dices))\n",
    "print(np.median(k_dices))"
   ]
  },
  {
   "cell_type": "code",
   "execution_count": 191,
   "metadata": {},
   "outputs": [
    {
     "name": "stdout",
     "output_type": "stream",
     "text": [
      "0.39424279088525915\n",
      "0.40519745696825815\n",
      "0.3825998670165023\n"
     ]
    }
   ],
   "source": [
    "print(np.percentile(s_dices,75)-np.percentile(s_dices,25))\n",
    "print(np.percentile(l_dices,75)-np.percentile(l_dices,25))\n",
    "print(np.percentile(k_dices,75)-np.percentile(k_dices,25))"
   ]
  },
  {
   "cell_type": "code",
   "execution_count": 192,
   "metadata": {},
   "outputs": [
    {
     "name": "stdout",
     "output_type": "stream",
     "text": [
      "WilcoxonResult(statistic=161991.0, pvalue=0.0018094663289462034)\n",
      "WilcoxonResult(statistic=160292.0, pvalue=0.04727536670102698)\n",
      "WilcoxonResult(statistic=153818.5, pvalue=8.452080024764259e-05)\n"
     ]
    }
   ],
   "source": [
    "print(wilcoxon(x=s_dices,y=l_dices))\n",
    "print(wilcoxon(x=s_dices,y=k_dices))\n",
    "print(wilcoxon(x=l_dices,y=k_dices))"
   ]
  }
 ],
 "metadata": {
  "kernelspec": {
   "display_name": "Python 3.9.9 64-bit",
   "language": "python",
   "name": "python3"
  },
  "language_info": {
   "codemirror_mode": {
    "name": "ipython",
    "version": 3
   },
   "file_extension": ".py",
   "mimetype": "text/x-python",
   "name": "python",
   "nbconvert_exporter": "python",
   "pygments_lexer": "ipython3",
   "version": "3.9.9"
  },
  "orig_nbformat": 4,
  "vscode": {
   "interpreter": {
    "hash": "807538355894bfe9c3b0fc3c547a7e24e0703440031706ea4ad2899e310ac795"
   }
  }
 },
 "nbformat": 4,
 "nbformat_minor": 2
}
